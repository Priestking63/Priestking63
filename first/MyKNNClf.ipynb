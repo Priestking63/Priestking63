{
 "cells": [
  {
   "cell_type": "code",
   "execution_count": 1,
   "metadata": {},
   "outputs": [],
   "source": [
    "import pandas as pd\n",
    "import numpy as np\n",
    "import math"
   ]
  },
  {
   "cell_type": "code",
   "execution_count": 2,
   "metadata": {},
   "outputs": [],
   "source": [
    "import math\n",
    "class MyKNNClf():\n",
    "\n",
    "    def __init__(self, k = 3, metric = 'euclidean', weights = 'uniform'):\n",
    "        self.k = k\n",
    "        self.train_size = None\n",
    "        self.metric = metric\n",
    "        self.weights = weights\n",
    "        \n",
    "    def __repr__(self):\n",
    "        return f\"MyKNNClf class: k={self.k}\"\n",
    "\n",
    "    def fit(self, X: pd.DataFrame, y: pd.Series):\n",
    "        self.X_train = X\n",
    "        self.y_train = y\n",
    "        self.train_size = self.X_train.shape\n",
    "        \n",
    "        \n",
    "    def metrics(self, X_test_row):\n",
    "        if self.metric == 'chebyshev':\n",
    "            return np.max(np.abs(self.X_train.values - X_test_row.values), axis = 1)\n",
    "        elif self.metric == 'manhattan':\n",
    "            return np.sum(np.abs(self.X_train.values - X_test_row.values), axis = 1)\n",
    "        elif self.metric == 'cosin':\n",
    "            return 1 - np.dot(self.X_train, X_test_row)/\\\n",
    "                    (np.linalg.norm(self.X_train) * np.linalg.norm(X_test_row))\n",
    "        else:\n",
    "            return np.sum((self.X_train.values-X_test_row.values)**2,axis = 1)**0.5\n",
    "\n",
    "    def euclid(self, X_test_row):\n",
    "        return np.where(self.euclid_proba(X_test_row) >= 0.5, 1, 0)\n",
    "        \n",
    "    def euclid_proba(self, X_test_row):\n",
    "        dist = self.metrics(X_test_row)\n",
    "        sort_val = np.argsort(dist)[:self.k]\n",
    "        dist2 = np.sort(dist)[:self.k]\n",
    "        y = self.y_train.iloc[sort_val]\n",
    "        y.index = range(1, self.k+1, 1)\n",
    "        if self.weights == 'uniform':\n",
    "            y_pred = y.mean() \n",
    "        elif self.weights == 'rank':\n",
    "            y_pred = np.sum(1/y.index[y==1])/np.sum(1/y.index)\n",
    "        elif self.weights == 'distance':\n",
    "            y_pred = np.sum(1/dist2[y.index[y==1]-1])/np.sum(1/dist2[y.index-1])\n",
    "    \n",
    "        return y_pred\n",
    "    \n",
    "    def predict(self, X_test):\n",
    "        return X_test.apply(self.euclid, axis = 1)\n",
    "    \n",
    "    def predict_proba(self, X_test):\n",
    "        return X_test.apply(self.euclid_proba, axis = 1)"
   ]
  },
  {
   "cell_type": "code",
   "execution_count": 3,
   "metadata": {},
   "outputs": [],
   "source": [
    "from sklearn.datasets import make_classification\n",
    "\n",
    "X, y = make_classification(n_samples=1000, n_features=14, n_informative=10, random_state=42)\n",
    "X = pd.DataFrame(X)\n",
    "y = pd.Series(y)\n",
    "X.columns = [f'col_{col}' for col in X.columns]\n"
   ]
  },
  {
   "cell_type": "code",
   "execution_count": 4,
   "metadata": {},
   "outputs": [],
   "source": [
    "from sklearn.model_selection import train_test_split"
   ]
  },
  {
   "cell_type": "code",
   "execution_count": 5,
   "metadata": {},
   "outputs": [],
   "source": [
    "X_train, X_test, y_train, y_test = train_test_split(X, y, test_size=0.33, random_state=42)"
   ]
  },
  {
   "cell_type": "code",
   "execution_count": 6,
   "metadata": {},
   "outputs": [],
   "source": [
    "model = MyKNNClf(k = 3, weights = 'distance')"
   ]
  },
  {
   "cell_type": "code",
   "execution_count": 7,
   "metadata": {},
   "outputs": [],
   "source": [
    "model.fit(X_train, y_train)"
   ]
  },
  {
   "cell_type": "code",
   "execution_count": 8,
   "metadata": {},
   "outputs": [
    {
     "data": {
      "text/plain": [
       "160"
      ]
     },
     "execution_count": 8,
     "metadata": {},
     "output_type": "execute_result"
    }
   ],
   "source": [
    "sum(model.predict(X_test))"
   ]
  },
  {
   "cell_type": "code",
   "execution_count": 9,
   "metadata": {},
   "outputs": [
    {
     "data": {
      "text/plain": [
       "160.61200228787382"
      ]
     },
     "execution_count": 9,
     "metadata": {},
     "output_type": "execute_result"
    }
   ],
   "source": [
    "sum(model.predict_proba(X_test))"
   ]
  },
  {
   "cell_type": "code",
   "execution_count": 10,
   "metadata": {},
   "outputs": [
    {
     "data": {
      "text/plain": [
       "(670, 14)"
      ]
     },
     "execution_count": 10,
     "metadata": {},
     "output_type": "execute_result"
    }
   ],
   "source": [
    "X_train.shape"
   ]
  },
  {
   "cell_type": "code",
   "execution_count": 11,
   "metadata": {},
   "outputs": [
    {
     "ename": "NameError",
     "evalue": "name 'X_test_np' is not defined",
     "output_type": "error",
     "traceback": [
      "\u001b[0;31m---------------------------------------------------------------------------\u001b[0m",
      "\u001b[0;31mNameError\u001b[0m                                 Traceback (most recent call last)",
      "\u001b[0;32m<ipython-input-11-938abb88057d>\u001b[0m in \u001b[0;36m<module>\u001b[0;34m\u001b[0m\n\u001b[0;32m----> 1\u001b[0;31m \u001b[0mnp\u001b[0m\u001b[0;34m.\u001b[0m\u001b[0msqrt\u001b[0m\u001b[0;34m(\u001b[0m\u001b[0;34m(\u001b[0m\u001b[0;34m(\u001b[0m\u001b[0mX_test_np\u001b[0m\u001b[0;34m[\u001b[0m\u001b[0;34m:\u001b[0m\u001b[0;34m,\u001b[0m\u001b[0;32mNone\u001b[0m\u001b[0;34m,\u001b[0m\u001b[0;34m:\u001b[0m\u001b[0;34m]\u001b[0m \u001b[0;34m-\u001b[0m \u001b[0mX_train_np\u001b[0m\u001b[0;34m)\u001b[0m\u001b[0;34m**\u001b[0m\u001b[0;36m2\u001b[0m\u001b[0;34m)\u001b[0m\u001b[0;34m.\u001b[0m\u001b[0msum\u001b[0m\u001b[0;34m(\u001b[0m\u001b[0maxis\u001b[0m\u001b[0;34m=\u001b[0m\u001b[0;36m2\u001b[0m\u001b[0;34m)\u001b[0m\u001b[0;34m)\u001b[0m\u001b[0;34m\u001b[0m\u001b[0;34m\u001b[0m\u001b[0m\n\u001b[0m",
      "\u001b[0;31mNameError\u001b[0m: name 'X_test_np' is not defined"
     ]
    }
   ],
   "source": [
    "np.sqrt(((X_test_np[:,None,:] - X_train_np)**2).sum(axis=2))"
   ]
  },
  {
   "cell_type": "code",
   "execution_count": null,
   "metadata": {},
   "outputs": [],
   "source": [
    "X_train = np.array([[-1.21345377, -1.54174037],\n",
    "                    [ 1.50513153, -0.23814019],\n",
    "                    [ 1.15413283, -0.04085176],\n",
    "                    [ 1.6248147 ,  0.11745924],\n",
    "                    [ 0.41190036,  0.16466746],\n",
    "                    [-0.56861959, -0.18716551],\n",
    "                    [-0.20204102, -1.46273951],\n",
    "                    [ 0.79519222,  0.31601044],\n",
    "                    [-0.47799507,  0.55453979],\n",
    "                    [-0.10039373, -0.70497529]])\n",
    "X_test = np.array([[-1.54277153, -0.12430863],\n",
    "                   [ 1.15146114,  0.08724635],\n",
    "                   [-0.99423371, -0.77970332],\n",
    "                   [-0.16547913,  0.79244826],\n",
    "                   [-0.42078791,  0.81083815]])"
   ]
  },
  {
   "cell_type": "code",
   "execution_count": null,
   "metadata": {},
   "outputs": [],
   "source": [
    "X_train_np = X_train.values\n",
    "X_test_np = X_test.values"
   ]
  },
  {
   "cell_type": "code",
   "execution_count": null,
   "metadata": {},
   "outputs": [],
   "source": [
    "X_train_np"
   ]
  },
  {
   "cell_type": "code",
   "execution_count": null,
   "metadata": {},
   "outputs": [],
   "source": [
    "X_train"
   ]
  },
  {
   "cell_type": "code",
   "execution_count": null,
   "metadata": {},
   "outputs": [],
   "source": [
    "X_test_np[:,None,:]"
   ]
  },
  {
   "cell_type": "code",
   "execution_count": null,
   "metadata": {},
   "outputs": [],
   "source": [
    "X_train_np"
   ]
  },
  {
   "cell_type": "code",
   "execution_count": 12,
   "metadata": {},
   "outputs": [],
   "source": [
    "a = np.array([[1,2,3],[4,5,6],[7,8,9]])"
   ]
  },
  {
   "cell_type": "code",
   "execution_count": 13,
   "metadata": {},
   "outputs": [],
   "source": [
    "a = a[:,None,:]"
   ]
  },
  {
   "cell_type": "code",
   "execution_count": null,
   "metadata": {},
   "outputs": [],
   "source": []
  }
 ],
 "metadata": {
  "kernelspec": {
   "display_name": "Python 3",
   "language": "python",
   "name": "python3"
  },
  "language_info": {
   "codemirror_mode": {
    "name": "ipython",
    "version": 3
   },
   "file_extension": ".py",
   "mimetype": "text/x-python",
   "name": "python",
   "nbconvert_exporter": "python",
   "pygments_lexer": "ipython3",
   "version": "3.7.3"
  }
 },
 "nbformat": 4,
 "nbformat_minor": 4
}
